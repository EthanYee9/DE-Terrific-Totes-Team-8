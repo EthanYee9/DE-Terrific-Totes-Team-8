{
 "cells": [
  {
   "cell_type": "markdown",
   "id": "27517cb8",
   "metadata": {},
   "source": [
    "this is to create tables in our test warehouse"
   ]
  },
  {
   "cell_type": "code",
   "execution_count": 47,
   "id": "33eab481",
   "metadata": {},
   "outputs": [],
   "source": [
    "import pandas as pd\n",
    "import dotenv\n",
    "from pg8000 import Connection\n",
    "import os"
   ]
  },
  {
   "cell_type": "code",
   "execution_count": 107,
   "id": "c656400d",
   "metadata": {},
   "outputs": [],
   "source": [
    "def connect():\n",
    "    dotenv.load_dotenv()\n",
    "    dbuser = os.environ[\"DBUSER\"]\n",
    "    dbhost = os.environ[\"HOST_WH\"] #\n",
    "    database = os.environ['DBNAME_WH'] #\n",
    "    password = os.environ['PASSWORD_WH'] #[\"PASSWORD_WH\"]\n",
    "    port = os.environ['PORT']\n",
    "    db = Connection(database=database, user=dbuser, password = password, host = dbhost, port = port)\n",
    "    return db"
   ]
  },
  {
   "cell_type": "code",
   "execution_count": null,
   "id": "5867d19d",
   "metadata": {},
   "outputs": [
    {
     "name": "stdout",
     "output_type": "stream",
     "text": [
      "SELECT * FROM dim_date LIMIT 3;SELECT * FROM dim_location LIMIT 3;SELECT * FROM dim_design LIMIT 3;SELECT * FROM dim_staff LIMIT 3;SELECT * FROM dim_currency LIMIT 3;SELECT * FROM dim_counterparty LIMIT 3;SELECT * FROM fact_sales_order LIMIT 3;\n",
      "([datetime.date(2022, 11, 3), 2022, 11, 3, 3, 'Thursday', 'November', 4], [datetime.date(2022, 11, 4), 2022, 11, 4, 4, 'Friday', 'November', 4], [datetime.date(2022, 11, 7), 2022, 11, 7, 0, 'Monday', 'November', 4], [1, '6826 Herzog Via', '<NA>', 'Avon', 'New Patienceburgh', '28441', 'Turkey', '1803 637401'], [2, '179 Alexie Cliffs', '<NA>', '<NA>', 'Aliso Viejo', '99305-7380', 'San Marino', '9621 880720'], [3, '148 Sincere Fort', '<NA>', '<NA>', 'Lake Charles', '89360', 'Samoa', '0730 783349'], [1, 'Wooden', '/lib', 'wooden-20201128-jdvi.json'], [2, 'Steel', '/etc/periodic', 'steel-20210725-fcxq.json'], [3, 'Steel', '/System', 'steel-20210621-13gb.json'], [1, 'GBP', 'British pound'], [2, 'USD', 'US dollar'], [3, 'EUR', 'Euro'], [1, 'Fahey and Sons', '605 Haskell Trafficway', 'Axel Freeway', '<NA>', 'East Bobbie', '88253-4257', 'Heard Island and McDonald Islands', '9687 937447'], [2, 'Leannon, Predovic and Morar', '079 Horacio Landing', '<NA>', '<NA>', 'Utica', '93045', 'Austria', '7772 084705'], [3, 'Armstrong Inc', '179 Alexie Cliffs', '<NA>', '<NA>', 'Aliso Viejo', '99305-7380', 'San Marino', '9621 880720'])\n"
     ]
    }
   ],
   "source": [
    "#### SELECT ALL\n",
    "\n",
    "db = connect()\n",
    "query = \"\"\n",
    "for table_name in  ['dim_date', 'dim_location', 'dim_design', 'dim_staff', \n",
    "    'dim_currency', 'dim_counterparty', 'fact_sales_order']:\n",
    "    query += f\"SELECT * FROM {table_name} LIMIT 3;\"\n",
    "    result = db.run(query)\n",
    "\n",
    "print(query)\n",
    "\n",
    "result = db.run(query)\n",
    "print(result)\n",
    "db.close()"
   ]
  },
  {
   "cell_type": "code",
   "execution_count": 141,
   "id": "564e9c48",
   "metadata": {},
   "outputs": [
    {
     "name": "stdout",
     "output_type": "stream",
     "text": [
      "DELETE FROM dim_date;DELETE FROM dim_location;DELETE FROM dim_design;DELETE FROM dim_staff;DELETE FROM dim_currency;DELETE FROM dim_counterparty;DELETE FROM fact_sales_order;\n"
     ]
    }
   ],
   "source": [
    "### DELETE ALL\n",
    "\n",
    "db = connect()\n",
    "query = \"\"\n",
    "for table_name in  ['dim_date', 'dim_location', 'dim_design', 'dim_staff', \n",
    "    'dim_currency', 'dim_counterparty','fact_sales_order']:\n",
    "    query += f\"DELETE FROM {table_name};\"\n",
    "print(query)\n",
    "db.run(query)\n",
    "db.close()"
   ]
  },
  {
   "cell_type": "code",
   "execution_count": 143,
   "id": "598f21ea",
   "metadata": {},
   "outputs": [
    {
     "data": {
      "text/plain": [
       "()"
      ]
     },
     "execution_count": 143,
     "metadata": {},
     "output_type": "execute_result"
    }
   ],
   "source": [
    "### \n",
    "#### SELECT ALL\n",
    "\n",
    "db = connect()\n",
    "query = \"\"\n",
    "for table_name in  ['dim_counterparty']:\n",
    "    query += f\"SELECT * FROM {table_name} LIMIT 3;\"\n",
    "\n",
    "db.run(query)\n"
   ]
  },
  {
   "cell_type": "code",
   "execution_count": null,
   "id": "3c2a3fc2",
   "metadata": {},
   "outputs": [],
   "source": []
  }
 ],
 "metadata": {
  "kernelspec": {
   "display_name": "venv",
   "language": "python",
   "name": "python3"
  },
  "language_info": {
   "codemirror_mode": {
    "name": "ipython",
    "version": 3
   },
   "file_extension": ".py",
   "mimetype": "text/x-python",
   "name": "python",
   "nbconvert_exporter": "python",
   "pygments_lexer": "ipython3",
   "version": "3.13.2"
  }
 },
 "nbformat": 4,
 "nbformat_minor": 5
}
